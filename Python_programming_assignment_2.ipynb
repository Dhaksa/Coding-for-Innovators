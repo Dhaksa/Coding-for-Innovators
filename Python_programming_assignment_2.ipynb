{
  "nbformat": 4,
  "nbformat_minor": 0,
  "metadata": {
    "colab": {
      "provenance": []
    },
    "kernelspec": {
      "name": "python3",
      "display_name": "Python 3"
    },
    "language_info": {
      "name": "python"
    }
  },
  "cells": [
    {
      "cell_type": "code",
      "execution_count": 1,
      "metadata": {
        "colab": {
          "base_uri": "https://localhost:8080/"
        },
        "id": "pFkJHyxTsCoY",
        "outputId": "ada01bee-6d7d-4d68-f648-f2f8df679b3d"
      },
      "outputs": [
        {
          "output_type": "stream",
          "name": "stdout",
          "text": [
            "23\n"
          ]
        }
      ],
      "source": [
        "def sum_of_multiples(n):\n",
        "    if n < 0:\n",
        "        return 0\n",
        "\n",
        "    total = 0\n",
        "    for x in range(n):\n",
        "        if x % 3 == 0 or x % 5 == 0:\n",
        "            total += x\n",
        "\n",
        "    return total\n",
        "\n",
        "print(sum_of_multiples(10))"
      ]
    },
    {
      "cell_type": "code",
      "source": [
        "import re\n",
        "\n",
        "def to_camel_case(text):\n",
        "    words = re.split('[-_]', text)\n",
        "    return words[0] + ''.join(word.capitalize() for word in words[1:])\n",
        "\n",
        "print(to_camel_case(\"the-stealth-warrior\"))\n",
        "print(to_camel_case(\"The_Stealth_Warrior\"))\n",
        "print(to_camel_case(\"The_Stealth-Warrior\"))"
      ],
      "metadata": {
        "colab": {
          "base_uri": "https://localhost:8080/"
        },
        "id": "eh2jOSqJsUkH",
        "outputId": "3ffc455a-9169-417c-f9f9-f061bdf3a73d"
      },
      "execution_count": 2,
      "outputs": [
        {
          "output_type": "stream",
          "name": "stdout",
          "text": [
            "theStealthWarrior\n",
            "TheStealthWarrior\n",
            "TheStealthWarrior\n"
          ]
        }
      ]
    },
    {
      "cell_type": "code",
      "source": [
        "def remove_vowels(s):\n",
        "    vowels = \"aeiouAEIOU\"\n",
        "    return ''.join(char for char in s if char not in vowels)\n",
        "\n",
        "print(remove_vowels(\"This website is for losers LOL!\"))"
      ],
      "metadata": {
        "colab": {
          "base_uri": "https://localhost:8080/"
        },
        "id": "8pJ9c2hGs_hU",
        "outputId": "5a35529b-6dba-4819-bb18-38d2f1f58c71"
      },
      "execution_count": 3,
      "outputs": [
        {
          "output_type": "stream",
          "name": "stdout",
          "text": [
            "Ths wbst s fr lsrs LL!\n"
          ]
        }
      ]
    },
    {
      "cell_type": "code",
      "source": [
        "def order(sentence):\n",
        "    return ' '.join(sorted(sentence.split(), key=lambda word: sorted(word)))\n",
        "\n",
        "print(order(\"is2 Thi1s T4est 3a\"))\n",
        "print(order(\"4of Fo1r pe6ople g3ood th5e the2\"))\n",
        "print(order(\"\"))"
      ],
      "metadata": {
        "colab": {
          "base_uri": "https://localhost:8080/"
        },
        "id": "63bsNcaLtF8A",
        "outputId": "14d33be9-96f6-401d-d37a-226124efe070"
      },
      "execution_count": 4,
      "outputs": [
        {
          "output_type": "stream",
          "name": "stdout",
          "text": [
            "Thi1s is2 3a T4est\n",
            "Fo1r the2 g3ood 4of th5e pe6ople\n",
            "\n"
          ]
        }
      ]
    },
    {
      "cell_type": "code",
      "source": [
        "#5\n",
        "def sort_odd_numbers(arr):\n",
        "    odds = sorted([num for num in arr if num % 2 != 0])\n",
        "    odd_index = 0\n",
        "\n",
        "    result = []\n",
        "    for num in arr:\n",
        "        if num % 2 != 0:\n",
        "            result.append(odds[odd_index])\n",
        "            odd_index += 1\n",
        "        else:\n",
        "            result.append(num)\n",
        "\n",
        "    return result\n",
        "\n",
        "print(sort_odd_numbers([7, 1]))\n",
        "print(sort_odd_numbers([5, 8, 6, 3, 4]))\n",
        "print(sort_odd_numbers([9, 8, 7, 6, 5, 4, 3, 2, 1, 0]))"
      ],
      "metadata": {
        "colab": {
          "base_uri": "https://localhost:8080/"
        },
        "id": "IicaG_5UtKWj",
        "outputId": "1d18cc1f-09c2-492a-949d-eb7145018a6a"
      },
      "execution_count": 5,
      "outputs": [
        {
          "output_type": "stream",
          "name": "stdout",
          "text": [
            "[1, 7]\n",
            "[3, 8, 6, 5, 4]\n",
            "[1, 8, 3, 6, 5, 4, 7, 2, 9, 0]\n"
          ]
        }
      ]
    }
  ]
}